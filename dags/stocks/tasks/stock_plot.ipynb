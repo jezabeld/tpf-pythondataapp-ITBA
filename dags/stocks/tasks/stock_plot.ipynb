{
 "cells": [
  {
   "cell_type": "code",
   "execution_count": null,
   "id": "ff4d4ee9",
   "metadata": {
    "papermill": {
     "duration": 1.940885,
     "end_time": "2021-11-14T15:12:29.556727",
     "exception": false,
     "start_time": "2021-11-14T15:12:27.615842",
     "status": "completed"
    },
    "tags": []
   },
   "outputs": [],
   "source": [
    "# import the libraries\n",
    "import seaborn as sns\n",
    "import matplotlib.pyplot as plt\n",
    "import matplotlib.dates as mdates\n",
    "import psycopg2\n",
    "import sys\n",
    "sys.path.insert(0, \"/home/jovyan/work\")\n",
    "sys.path.insert(0, \"/opt/airflow/dags\")\n",
    "from stocks.tasks.transform_stock_data import get_data_from_db, transform_data"
   ]
  },
  {
   "cell_type": "code",
   "execution_count": null,
   "id": "3a671b5f",
   "metadata": {
    "papermill": {
     "duration": 0.052848,
     "end_time": "2021-11-14T15:12:29.651373",
     "exception": false,
     "start_time": "2021-11-14T15:12:29.598525",
     "status": "completed"
    },
    "tags": [
     "parameters"
    ]
   },
   "outputs": [],
   "source": [
    "# This cell has parameters\n",
    "execution_date = \"\""
   ]
  },
  {
   "cell_type": "code",
   "execution_count": null,
   "id": "684da230",
   "metadata": {
    "papermill": {
     "duration": 0.382561,
     "end_time": "2021-11-14T15:12:30.099263",
     "exception": false,
     "start_time": "2021-11-14T15:12:29.716702",
     "status": "completed"
    },
    "tags": []
   },
   "outputs": [],
   "source": [
    "data = get_data_from_db()\n",
    "filt_data = transform_data(data,execution_date)\n",
    "\n",
    "# Create figure and plot space\n",
    "fig, ax = plt.subplots(figsize=(12, 5))\n",
    "  \n",
    "# plot a simple time series plot\n",
    "sns.lineplot( x = 'date',\n",
    "             y = '7day_rolling_avg',\n",
    "             hue='symbol',\n",
    "             data = filt_data\n",
    "            )\n",
    "             \n",
    "plt.xlabel( 'Days')\n",
    "\n",
    "# Define the date format\n",
    "date_form = mdates.DateFormatter('%Y-%m-%d')\n",
    "ax.xaxis.set_major_formatter(date_form)\n",
    "\n",
    "ax.xaxis.set_major_locator(mdates.DayLocator(interval=1))\n",
    "\n",
    "plt.ylabel('Stocks Price (7 day rolling avg of close price)')"
   ]
  }
 ],
 "metadata": {
  "kernelspec": {
   "display_name": "Python 3 (ipykernel)",
   "language": "python",
   "name": "python3"
  },
  "language_info": {
   "codemirror_mode": {
    "name": "ipython",
    "version": 3
   },
   "file_extension": ".py",
   "mimetype": "text/x-python",
   "name": "python",
   "nbconvert_exporter": "python",
   "pygments_lexer": "ipython3",
   "version": "3.9.7"
  },
  "papermill": {
   "default_parameters": {},
   "duration": 4.384457,
   "end_time": "2021-11-14T15:12:30.623714",
   "environment_variables": {},
   "exception": null,
   "input_path": "/opt/airflow/dags/stocks/tasks/stock_plot.ipynb",
   "output_path": "/opt/airflow/dags/stocks/tasks/stock_plot.ipynb",
   "parameters": {
    "execution_date": "2021-11-13"
   },
   "start_time": "2021-11-14T15:12:26.239257",
   "version": "2.3.3"
  }
 },
 "nbformat": 4,
 "nbformat_minor": 5
}
