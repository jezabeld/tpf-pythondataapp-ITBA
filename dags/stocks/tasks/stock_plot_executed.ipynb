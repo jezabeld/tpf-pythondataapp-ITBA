{
 "cells": [
  {
   "cell_type": "code",
   "execution_count": 1,
   "id": "ff4d4ee9",
   "metadata": {
    "execution": {
     "iopub.execute_input": "2021-11-22T19:40:30.253927Z",
     "iopub.status.busy": "2021-11-22T19:40:30.253176Z",
     "iopub.status.idle": "2021-11-22T19:40:31.552285Z",
     "shell.execute_reply": "2021-11-22T19:40:31.553490Z"
    },
    "jupyter": {
     "source_hidden": true
    },
    "papermill": {
     "duration": 1.33497,
     "end_time": "2021-11-22T19:40:31.553912",
     "exception": false,
     "start_time": "2021-11-22T19:40:30.218942",
     "status": "completed"
    },
    "tags": []
   },
   "outputs": [],
   "source": [
    "# import the libraries\n",
    "import seaborn as sns\n",
    "import matplotlib.pyplot as plt\n",
    "import matplotlib.dates as mdates\n",
    "import psycopg2\n",
    "import sys\n",
    "sys.path.insert(0, \"/home/jovyan/work\")\n",
    "sys.path.insert(0, \"/opt/airflow/dags\")\n",
    "from stocks.tasks.transform_stock_data import get_datafrom_db, transform_data"
   ]
  },
  {
   "cell_type": "code",
   "execution_count": 2,
   "id": "3a671b5f",
   "metadata": {
    "execution": {
     "iopub.execute_input": "2021-11-22T19:40:31.585116Z",
     "iopub.status.busy": "2021-11-22T19:40:31.581763Z",
     "iopub.status.idle": "2021-11-22T19:40:31.587154Z",
     "shell.execute_reply": "2021-11-22T19:40:31.587771Z"
    },
    "jupyter": {
     "source_hidden": true
    },
    "papermill": {
     "duration": 0.022722,
     "end_time": "2021-11-22T19:40:31.588015",
     "exception": false,
     "start_time": "2021-11-22T19:40:31.565293",
     "status": "completed"
    },
    "tags": [
     "parameters"
    ]
   },
   "outputs": [],
   "source": [
    "# This cell has parameters\n",
    "execution_date = \"\""
   ]
  },
  {
   "cell_type": "code",
   "execution_count": 3,
   "id": "95e3431d",
   "metadata": {
    "execution": {
     "iopub.execute_input": "2021-11-22T19:40:31.614352Z",
     "iopub.status.busy": "2021-11-22T19:40:31.612995Z",
     "iopub.status.idle": "2021-11-22T19:40:31.617980Z",
     "shell.execute_reply": "2021-11-22T19:40:31.617235Z"
    },
    "jupyter": {
     "source_hidden": true
    },
    "papermill": {
     "duration": 0.021495,
     "end_time": "2021-11-22T19:40:31.618169",
     "exception": false,
     "start_time": "2021-11-22T19:40:31.596674",
     "status": "completed"
    },
    "tags": [
     "injected-parameters"
    ]
   },
   "outputs": [],
   "source": [
    "# Parameters\n",
    "execution_date = \"2021-11-21\"\n"
   ]
  },
  {
   "cell_type": "code",
   "execution_count": 4,
   "id": "684da230",
   "metadata": {
    "execution": {
     "iopub.execute_input": "2021-11-22T19:40:31.645098Z",
     "iopub.status.busy": "2021-11-22T19:40:31.644305Z",
     "iopub.status.idle": "2021-11-22T19:40:32.062294Z",
     "shell.execute_reply": "2021-11-22T19:40:32.063365Z"
    },
    "jupyter": {
     "source_hidden": true
    },
    "papermill": {
     "duration": 0.437627,
     "end_time": "2021-11-22T19:40:32.063627",
     "exception": false,
     "start_time": "2021-11-22T19:40:31.626000",
     "status": "completed"
    },
    "tags": []
   },
   "outputs": [
    {
     "data": {
      "text/plain": [
       "Text(0, 0.5, 'Stocks Price (7 day rolling avg of close price)')"
      ]
     },
     "execution_count": 4,
     "metadata": {},
     "output_type": "execute_result"
    },
    {
     "data": {
      "image/png": "[encoded data removed]",
      "text/plain": [
       "<Figure size 864x360 with 1 Axes>"
      ]
     },
     "metadata": {
      "needs_background": "light"
     },
     "output_type": "display_data"
    }
   ],
   "source": [
    "data = get_datafrom_db()\n",
    "filt_data = transform_data(data,execution_date)\n",
    "\n",
    "# Create figure and plot space\n",
    "fig, ax = plt.subplots(figsize=(12, 5))\n",
    "  \n",
    "# plot a simple time series plot\n",
    "sns.lineplot( x = 'date',\n",
    "             y = '7day_rolling_avg',\n",
    "             hue='symbol',\n",
    "             data = filt_data\n",
    "            )\n",
    "             \n",
    "plt.xlabel( 'Days')\n",
    "\n",
    "# Define the date format\n",
    "date_form = mdates.DateFormatter('%Y-%m-%d')\n",
    "ax.xaxis.set_major_formatter(date_form)\n",
    "\n",
    "ax.xaxis.set_major_locator(mdates.DayLocator(interval=1))\n",
    "\n",
    "plt.ylabel('Stocks Price (7 day rolling avg of close price)')"
   ]
  }
 ],
 "metadata": {
  "kernelspec": {
   "display_name": "Python 3 (ipykernel)",
   "language": "python",
   "name": "python3"
  },
  "language_info": {
   "codemirror_mode": {
    "name": "ipython",
    "version": 3
   },
   "file_extension": ".py",
   "mimetype": "text/x-python",
   "name": "python",
   "nbconvert_exporter": "python",
   "pygments_lexer": "ipython3",
   "version": "3.6.15"
  },
  "papermill": {
   "default_parameters": {},
   "duration": 4.841603,
   "end_time": "2021-11-22T19:40:32.500953",
   "environment_variables": {},
   "exception": null,
   "input_path": "/opt/airflow/dags/stocks/tasks/stock_plot.ipynb",
   "output_path": "/opt/airflow/dags/stocks/tasks/stock_plot_executed.ipynb",
   "parameters": {
    "execution_date": "2021-11-21"
   },
   "start_time": "2021-11-22T19:40:27.659350",
   "version": "2.3.3"
  }
 },
 "nbformat": 4,
 "nbformat_minor": 5
}